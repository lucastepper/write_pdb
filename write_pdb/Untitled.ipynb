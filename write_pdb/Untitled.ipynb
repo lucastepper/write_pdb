{
 "cells": [
  {
   "cell_type": "code",
   "execution_count": 47,
   "metadata": {},
   "outputs": [],
   "source": [
    "class PDBLINE(dict):\n",
    "    \"\"\"\n",
    "    Create a single PDB line and write its fields.\n",
    "    \"\"\"\n",
    "    def __init__(self, input_line, **kwargs):\n",
    "        super().__init__()\n",
    "        self.input_line = input_line\n",
    "        # keep track if the line is an ATOM or HETATM\n",
    "        self.is_atom = True\n",
    "        # should actually make field_templates private Standart pdb\n",
    "        # definition, changed to make it zero based and compatible\n",
    "        # with python indexing by subtracting one from the left index\n",
    "        self.field_templates = {\n",
    "            'type':        ([0, 6],     '“ATOM”',\t\t                     'character'),\n",
    "            'atomid':      ([6, 11],\t'Atom serial number\tright',\t         'integer'),\n",
    "            'atomname':    ([12, 16],\t'Atom name\tleft',\t                 'character'),\n",
    "            'altlocid':    ([16, 17],   'Alternate location indicator',\t     'character'),\n",
    "            'resname':     ([17, 20],\t'Residue name\tright',\t             'character'),\n",
    "            'chainid':     ([21, 22],   'Chain identifier',\t\t             'character'),\n",
    "            'resid':       ([22, 26],\t'Residue sequence number\tright',\t 'integer'),\n",
    "            'code':        ([26, 27],   'Code for insertions of residues',\t 'character'),\n",
    "            'posx':        ([30, 38],\t'X orthogonal A coordinate\tright',  'real (8.3)'),\n",
    "            'posy':        ([38, 46],\t'Y orthogonal A coordinate\tright',  'real (8.3)'),\n",
    "            'posz':        ([46, 54],\t'Z orthogonal A coordinate\tright',  'real (8.3)'),\n",
    "            'occupancy':   ([54, 60],\t'Occupancy\tright',\t                 'real (6.2)'),\n",
    "            'tempfact':    ([60, 66],\t'Temperature factor\tright',\t         'real (6.2)'),\n",
    "            'segid':       ([72, 76],\t'Segment identifier\tleft',\t         'character'),\n",
    "            'element':     ([76, 78],\t'Element symbol\tright',\t             'character'),\n",
    "        }\n",
    "        for key, item in kwargs.items():\n",
    "            self.__setitem__(key, item)\n",
    "\n",
    "    @staticmethod\n",
    "    def from_line(pdb_line):\n",
    "        \"\"\" Construct a PDBLINE obj from a full pdb line given as a str. \"\"\"\n",
    "        # if not a proper atom line, mark and return\n",
    "        if pdb_line[ : 4].strip() not in ['ATOM', 'HETATM']:\n",
    "            # since I do not fix numbering on TER lines jet, just erase it\n",
    "            if pdb_line.startswith('TER'):\n",
    "                pdb_line = 'TER\\n'\n",
    "            to_construct = PDBLINE(pdb_line)\n",
    "            to_construct.is_atom = False\n",
    "            return to_construct\n",
    "        # pad or cut line to len 79\n",
    "        if len(pdb_line) < 79:\n",
    "            pdb_line += ' ' * (79 - len(pdb_line))\n",
    "        pdb_line = pdb_line[  : 79]\n",
    "        to_construct = PDBLINE(pdb_line)\n",
    "        for key, field_descriptor in to_construct.field_templates.items():\n",
    "            idx_start, idx_end = field_descriptor[0]\n",
    "            to_construct[key] = pdb_line[idx_start : idx_end]\n",
    "        return to_construct\n",
    "\n",
    "    def get_str_with_len(self, content, length):\n",
    "        \"\"\" Take the content and pad it with spaces from the left until\n",
    "        if has length. Asserts that str(content) <= length.\n",
    "        \"\"\"\n",
    "        out_str = str(content)\n",
    "        assert len(out_str) <= length, f'content too long: {content}, {length}'\n",
    "        while len(out_str) < length:\n",
    "            out_str = ' ' + out_str\n",
    "        return out_str\n",
    "\n",
    "    def __setitem__(self, key, item):\n",
    "        idxs = self.field_templates[key][0]\n",
    "        len_field = idxs[1] - idxs[0]\n",
    "        assert len(str(item)) <= len_field, (\n",
    "            'The given item to be written into a PDBLINE does not have the right '\n",
    "            'length. When cast to a string, it should have less than or equal '\n",
    "            f'than {len_field}, but it has: {len(str(item))}.'\n",
    "        )\n",
    "        super().__setitem__(key, self.get_str_with_len(item, len_field))\n",
    "\n",
    "    def sub_line(self, idx1, idx2, word, line):\n",
    "        \"\"\" Given a pdb line string, substitute a single fields with word. \"\"\"\n",
    "        assert idx2 - idx1 == len(word), f'{idx1 - idx2} {len(word)}'\n",
    "        for i, idx in enumerate(range(idx1, idx2)):\n",
    "            line[idx] = word[i]\n",
    "\n",
    "    def get_line(self, pad_with=' \\n'):\n",
    "        \"\"\" Write all fields into a line, empty fields end up as spaces.\n",
    "        If the line is not of type ATOM or HETATOM, return unmodified line. \"\"\"\n",
    "        if not self.is_atom:\n",
    "            return self.input_line\n",
    "        line = 79 * [' ']\n",
    "        for key, (colums, __, __) in self.field_templates.items():\n",
    "            if key in super().keys():\n",
    "                word = self.get_str_with_len(super().__getitem__(key), colums[1] - colums[0])\n",
    "                self.sub_line(colums[0], colums[1], word, line)\n",
    "        return ''.join(line) + pad_with\n",
    "\n",
    "    def __repr__(self):\n",
    "        return self.get_line().strip('\\n')"
   ]
  },
  {
   "cell_type": "code",
   "execution_count": 48,
   "metadata": {},
   "outputs": [],
   "source": [
    "def fix_atom_numbering(pdb_lines):\n",
    "    \"\"\" Check that the atom numbering is increasing by one each line,\n",
    "    given a list of pdb lines. Returns a bopy of pdb_lines.\n",
    "    Arguments:\n",
    "        pdblines (list of str): List containing the pdb lines to be changed.\n",
    "    \"\"\"\n",
    "    output_lines = []\n",
    "    for i, line in enumerate(pdb_lines):\n",
    "        line_obj = PDBLINE.from_line(line)\n",
    "        if line_obj.is_atom:\n",
    "            line_obj['atomid'] = i + 1\n",
    "        output_lines.append(line_obj.get_line())\n",
    "    return output_lines"
   ]
  },
  {
   "cell_type": "code",
   "execution_count": 49,
   "metadata": {},
   "outputs": [
    {
     "data": {
      "text/plain": [
       "'ATOM     37  CA  ASN A   3       1.900  10.505   4.185  1.00  0.00           C  \\n'"
      ]
     },
     "execution_count": 49,
     "metadata": {},
     "output_type": "execute_result"
    }
   ],
   "source": [
    "PDBLINE.from_line(lines[2]).get_line()"
   ]
  },
  {
   "cell_type": "code",
   "execution_count": 50,
   "metadata": {},
   "outputs": [
    {
     "data": {
      "text/plain": [
       "['MODEL        0\\n',\n",
       " 'ATOM     36  N   ASN A   3       0.435  10.506   4.227  1.00  0.00           N  \\n',\n",
       " 'ATOM     37  CA  ASN A   3       1.900  10.505   4.185  1.00  0.00           C  \\n',\n",
       " 'ATOM     38  C   ASN A   3       2.363  10.506   5.654  1.00  0.00           C  \\n',\n",
       " 'ATOM     39  O   ASN A   3       1.576  10.506   6.602  1.00  0.00           O  \\n',\n",
       " 'ATOM     40  CB  ASN A   3       2.428  11.737   3.449  1.00  0.00           C  \\n',\n",
       " 'ATOM     41  HB3 ASN A   3       1.906  11.863   2.493  1.00  0.00           H  \\n',\n",
       " 'ATOM     42  HB2 ASN A   3       2.258  12.643   4.043  1.00  0.00           H  \\n',\n",
       " 'ATOM     43  CG  ASN A   3       3.903  11.631   3.141  1.00  0.00           C  \\n',\n",
       " 'ATOM     44  OD1 ASN A   3       4.600  10.655   3.393  1.00  0.00           O  \\n',\n",
       " 'ATOM     45  ND2 ASN A   3       4.440  12.746   2.570  1.00  0.00           N  \\n',\n",
       " 'ATOM     46 HD21 ASN A   3       3.884  13.540   2.280  1.00  0.00           H  \\n',\n",
       " 'ATOM     47 HD22 ASN A   3       5.420  12.727   2.317  1.00  0.00           H  \\n',\n",
       " 'ATOM     48  HA  ASN A   3       2.222   9.574   3.705  1.00  0.00           H  \\n',\n",
       " 'ATOM     49  H   ASN A   3       0.000  10.709   5.124  1.00  0.00           H  \\n',\n",
       " 'TER      50      ASN A   3\\n',\n",
       " 'ENDMDL\\n',\n",
       " 'END\\n']"
      ]
     },
     "execution_count": 50,
     "metadata": {},
     "output_type": "execute_result"
    }
   ],
   "source": [
    "lines = [x for x in open('residue_templates/asn.pdb').readlines() if x.startswith('A')]\n",
    "lines = open('residue_templates/asn.pdb').readlines()\n",
    "lines"
   ]
  },
  {
   "cell_type": "code",
   "execution_count": 51,
   "metadata": {},
   "outputs": [
    {
     "data": {
      "text/plain": [
       "['MODEL        0\\n',\n",
       " 'ATOM      2  N   ASN A   3       0.435  10.506   4.227  1.00  0.00           N  \\n',\n",
       " 'ATOM      3  CA  ASN A   3       1.900  10.505   4.185  1.00  0.00           C  \\n',\n",
       " 'ATOM      4  C   ASN A   3       2.363  10.506   5.654  1.00  0.00           C  \\n',\n",
       " 'ATOM      5  O   ASN A   3       1.576  10.506   6.602  1.00  0.00           O  \\n',\n",
       " 'ATOM      6  CB  ASN A   3       2.428  11.737   3.449  1.00  0.00           C  \\n',\n",
       " 'ATOM      7  HB3 ASN A   3       1.906  11.863   2.493  1.00  0.00           H  \\n',\n",
       " 'ATOM      8  HB2 ASN A   3       2.258  12.643   4.043  1.00  0.00           H  \\n',\n",
       " 'ATOM      9  CG  ASN A   3       3.903  11.631   3.141  1.00  0.00           C  \\n',\n",
       " 'ATOM     10  OD1 ASN A   3       4.600  10.655   3.393  1.00  0.00           O  \\n',\n",
       " 'ATOM     11  ND2 ASN A   3       4.440  12.746   2.570  1.00  0.00           N  \\n',\n",
       " 'ATOM     12 HD21 ASN A   3       3.884  13.540   2.280  1.00  0.00           H  \\n',\n",
       " 'ATOM     13 HD22 ASN A   3       5.420  12.727   2.317  1.00  0.00           H  \\n',\n",
       " 'ATOM     14  HA  ASN A   3       2.222   9.574   3.705  1.00  0.00           H  \\n',\n",
       " 'ATOM     15  H   ASN A   3       0.000  10.709   5.124  1.00  0.00           H  \\n',\n",
       " 'TER\\n',\n",
       " 'ENDMDL\\n',\n",
       " 'END\\n']"
      ]
     },
     "execution_count": 51,
     "metadata": {},
     "output_type": "execute_result"
    }
   ],
   "source": [
    "# fix_atom_numbering(fix_residue_numbering(lines))\n",
    "[x for x in fix_atom_numbering(lines)]"
   ]
  },
  {
   "cell_type": "code",
   "execution_count": 22,
   "metadata": {},
   "outputs": [],
   "source": [
    "with open('/net/storage/greedisgod/modules/write_pdb/write_pdb/residue_templates/asn.pdb_mod', 'w') as fh:\n",
    "    fh.writelines(lines)"
   ]
  },
  {
   "cell_type": "code",
   "execution_count": null,
   "metadata": {},
   "outputs": [],
   "source": []
  }
 ],
 "metadata": {
  "kernelspec": {
   "display_name": "main",
   "language": "python",
   "name": "main"
  },
  "language_info": {
   "codemirror_mode": {
    "name": "ipython",
    "version": 3
   },
   "file_extension": ".py",
   "mimetype": "text/x-python",
   "name": "python",
   "nbconvert_exporter": "python",
   "pygments_lexer": "ipython3",
   "version": "3.8.6"
  }
 },
 "nbformat": 4,
 "nbformat_minor": 4
}
